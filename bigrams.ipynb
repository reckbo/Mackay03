{
 "cells": [
  {
   "cell_type": "markdown",
   "metadata": {},
   "source": [
    "Here's a J implementation (code on [GitHub](https://github.com/reckbo/Mackay03)) to compute\n",
    "the joint and conditional probability distributions of bigrams in the Linux FAQ, as shown in\n",
    "section 2.1 of \n",
    "[Information Theory, Inference, and Learning Algorithms (Mackay 2003)](http://www.inference.phy.cam.ac.uk/mackay/itila/),\n",
    "\n",
    "First, enumerate the 27x27 valid bigrams, i.e. those consisting of letters and/or spaces, and\n",
    "show them as a matrix where $i$ represents the first letter and $j$ represents the second letter:"
   ]
  },
  {
   "cell_type": "code",
   "execution_count": 25,
   "metadata": {
    "collapsed": false
   },
   "outputs": [
    {
     "name": "stdout",
     "output_type": "stream",
     "text": [
      "┌──┬──┬──┬──┬──┬──┬──┬──┬──┬──┬──┬──┬──┬──┬──┬──┬──┬──┬──┬──┬──┬──┬──┬...\n",
      "│  │ a│ b│ c│ d│ e│ f│ g│ h│ i│ j│ k│ l│ m│ n│ o│ p│ q│ r│ s│ t│ u│ v│...\n",
      "├──┼──┼──┼──┼──┼──┼──┼──┼──┼──┼──┼──┼──┼──┼──┼──┼──┼──┼──┼──┼──┼──┼──┼...\n",
      "│a │aa│ab│ac│ad│ae│af│ag│ah│ai│aj│ak│al│am│an│ao│ap│aq│ar│as│at│au│av│...\n",
      "├──┼──┼──┼──┼──┼──┼──┼──┼──┼──┼──┼──┼──┼──┼──┼──┼──┼──┼──┼──┼──┼──┼──┼...\n",
      "│b │ba│bb│bc│bd│be│bf│bg│bh│bi│bj│bk│bl│bm│bn│bo│bp│bq│br│bs│bt│bu│bv│...\n",
      "├──┼──┼──┼──┼──┼──┼──┼──┼──┼──┼──┼──┼──┼──┼──┼──┼──┼──┼──┼──┼──┼──┼──┼...\n",
      "│c │ca│cb│cc│cd│ce│cf│cg│ch│ci│cj│ck│cl│cm│cn│co│cp│cq│cr│cs│ct│cu│cv│...\n",
      "├──┼──┼──┼──┼──┼──┼──┼──┼──┼──┼──┼──┼──┼──┼──┼──┼──┼──┼──┼──┼──┼──┼──┼...\n",
      "│d │da│db│dc│dd│de│df│dg│dh│di│dj│dk│dl│dm│dn│do│dp│dq│dr│ds│dt│du│dv│...\n",
      "├──┼──┼──┼──┼──┼──┼──┼──┼──┼──┼──┼──┼──┼──┼──┼──┼──┼──┼──┼──┼──┼──┼──┼...\n",
      "│e │ea│eb│ec│ed│ee│ef│eg│eh│ei│ej│ek│el│em│en│eo│ep│eq│er│es│et│eu│ev│...\n",
      "├──┼──┼──┼──┼──┼──┼──┼──┼──┼──┼──┼──┼──┼──┼──┼──┼──┼──┼──┼──┼──┼──┼──┼...\n",
      "│f │fa│fb│fc│fd│fe│ff│fg│fh│fi│fj│fk│fl│fm│fn│fo│fp│fq│fr│fs│ft│fu│fv│...\n",
      "...\n",
      "│t │ta│tb│tc│td│te│tf│tg│th│ti│tj│tk│tl│tm│tn│to│tp│tq│tr│ts│tt│tu│tv│...\n",
      "├──┼──┼──┼──┼──┼──┼──┼──┼──┼──┼──┼──┼──┼──┼──┼──┼──┼──┼──┼──┼──┼──┼──┼...\n",
      "│u │ua│ub│uc│ud│ue│uf│ug│uh│ui│uj│uk│ul│um│un│uo│up│uq│ur│us│ut│uu│uv│...\n",
      "├──┼──┼──┼──┼──┼──┼──┼──┼──┼──┼──┼──┼──┼──┼──┼──┼──┼──┼──┼──┼──┼──┼──┼...\n",
      "│v │va│vb│vc│vd│ve│vf│vg│vh│vi│vj│vk│vl│vm│vn│vo│vp│vq│vr│vs│vt│vu│vv│...\n",
      "├──┼──┼──┼──┼──┼──┼──┼──┼──┼──┼──┼──┼──┼──┼──┼──┼──┼──┼──┼──┼──┼──┼──┼...\n",
      "│w │wa│wb│wc│wd│we│wf│wg│wh│wi│wj│wk│wl│wm│wn│wo│wp│wq│wr│ws│wt│wu│wv│...\n",
      "├──┼──┼──┼──┼──┼──┼──┼──┼──┼──┼──┼──┼──┼──┼──┼──┼──┼──┼──┼──┼──┼──┼──┼...\n",
      "│x │xa│xb│xc│xd│xe│xf│xg│xh│xi│xj│xk│xl│xm│xn│xo│xp│xq│xr│xs│xt│xu│xv│...\n",
      "├──┼──┼──┼──┼──┼──┼──┼──┼──┼──┼──┼──┼──┼──┼──┼──┼──┼──┼──┼──┼──┼──┼──┼...\n",
      "│y │ya│yb│yc│yd│ye│yf│yg│yh│yi│yj│yk│yl│ym│yn│yo│yp│yq│yr│ys│yt│yu│yv│...\n",
      "├──┼──┼──┼──┼──┼──┼──┼──┼──┼──┼──┼──┼──┼──┼──┼──┼──┼──┼──┼──┼──┼──┼──┼...\n",
      "│z │za│zb│zc│zd│ze│zf│zg│zh│zi│zj│zk│zl│zm│zn│zo│zp│zq│zr│zs│zt│zu│zv│...\n",
      "└──┴──┴──┴──┴──┴──┴──┴──┴──┴──┴──┴──┴──┴──┴──┴──┴──┴──┴──┴──┴──┴──┴──┴...\n"
     ]
    }
   ],
   "source": [
    "9!:37 [ 0 70 14 14 NB. output formatting: 130 width, 14 head and tail\n",
    "ALPHABET=: a. {~ 97+i.26\n",
    "] 27 27 $ BIGRAMS=: , <@,\"0/~ ALPHABET,~' '"
   ]
  },
  {
   "cell_type": "markdown",
   "metadata": {},
   "source": [
    "Next, get all the bigrams from the Linux FAQ, along with their counts:"
   ]
  },
  {
   "cell_type": "code",
   "execution_count": 26,
   "metadata": {
    "collapsed": false,
    "scrolled": true
   },
   "outputs": [
    {
     "name": "stdout",
     "output_type": "stream",
     "text": [
      "┌────┬───┬──┬──┬──┬──┬──┬──┬──┬──┬──┬──┬──┬──┬──┬──┬──┬──┬──┬──┬──┬──┬...\n",
      "│    │   │ \"│ #│ $│ '│ (│ )│ ,│ -│ .│ /│ 1│ 2│ 3│ 4│ 5│ 6│ 7│ 8│ 9│ >│...\n",
      "├────┼───┼──┼──┼──┼──┼──┼──┼──┼──┼──┼──┼──┼──┼──┼──┼──┼──┼──┼──┼──┼──┼...\n",
      "│1131│865│12│8 │3 │4 │19│1 │1 │42│10│25│37│7 │4 │3 │5 │6 │2 │2 │2 │1 │...\n",
      "└────┴───┴──┴──┴──┴──┴──┴──┴──┴──┴──┴──┴──┴──┴──┴──┴──┴──┴──┴──┴──┴──┴...\n"
     ]
    }
   ],
   "source": [
    "FAQ=.tolower fread'linuxfaq.txt'\n",
    "]FAQbigrams=. |: /:~ (~. ,. <@#/.~)  BIGRAMS , 2 <\\  FAQ "
   ]
  },
  {
   "cell_type": "markdown",
   "metadata": {},
   "source": [
    "(we append `BIGRAMS` to make sure there are at least one of every valid bigram in `FAQbigrams`, then\n",
    "we decrement the counts later).\n",
    "\n",
    "Now filter the FAQ bigrams for valid ones only, and normalize the counts to get a joint\n",
    "probability, shown as a 27x27 matrix $$\\mathbf{P}_{ij} = Pr(i,j)$$."
   ]
  },
  {
   "cell_type": "code",
   "execution_count": 27,
   "metadata": {
    "collapsed": false
   },
   "outputs": [
    {
     "name": "stdout",
     "output_type": "stream",
     "text": [
      "  0.0647533   0.0166929  0.00409857  0.00756382  0.00654433   0.003238...\n",
      " 0.00404193  1.54469e_5  0.00218831  0.00255388  0.00229129  4.11917e_...\n",
      "0.000468555 0.000726003  1.54469e_5 0.000180214 0.000123575  0.0022140...\n",
      "0.000679663  0.00318721  2.05958e_5 0.000623024  9.78302e_5  0.0030842...\n",
      "  0.0103752 0.000911366  4.63406e_5  8.75323e_5  0.00074145  0.0049069...\n",
      "  0.0280618  0.00238397 0.000571534  0.00353734  0.00538581  0.0019926...\n",
      "  0.0047113  0.00083928           0  3.08938e_5 0.000190511 0.00094740...\n",
      " 0.00354248 0.000365576  1.02979e_5 0.000242001  1.02979e_5  0.0028628...\n",
      " 0.00271865  0.00478853           0  5.14896e_6  9.78302e_5   0.015529...\n",
      "0.000705407  0.00143141  0.00205443  0.00287827  0.00105039  0.0016940...\n",
      "          0 0.000133873  5.14896e_6           0           0 0.00032438...\n",
      " 0.00151894 0.000375874  4.11917e_5  1.54469e_5  8.75323e_5  0.0028834...\n",
      " 0.00423759  0.00246635  8.23834e_5  5.14896e_5  0.00116881  0.0066215...\n",
      " 0.00226554  0.00557117 0.000751748 0.000164767  3.60427e_5  0.0049893...\n",
      "  0.0105193  0.00148805  3.08938e_5  0.00160133  0.00671424  0.0059367...\n",
      " 0.00700773 0.000442811 0.000581832  0.00202354  0.00149835  0.0005457...\n",
      " 0.00158073   0.0029658  3.08938e_5 0.000293491 0.000293491  0.0022037...\n",
      "0.000185363  1.54469e_5           0           0  5.14896e_6           ...\n",
      " 0.00850093  0.00353734 0.000102979  0.00127179   0.0012512   0.011868...\n",
      "  0.0154829 0.000957706 0.000205958 0.000968004 0.000154469  0.0068017...\n",
      "  0.0123524   0.0039441  2.05958e_5 0.000865025 0.000169916  0.0076204...\n",
      " 0.00269291  0.00069511  0.00118426 0.000576683 0.000458257 0.00076204...\n",
      " 5.14896e_5 0.000973153           0  2.57448e_5  1.02979e_5  0.0049687...\n",
      " 0.00161677  0.00156528  2.57448e_5  1.02979e_5  5.14896e_5  0.0011173...\n",
      " 0.00250754 0.000360427  5.14896e_6  4.63406e_5  3.60427e_5 0.00026774...\n",
      " 0.00605003  1.02979e_5  4.11917e_5  1.02979e_5  1.02979e_5 0.00015961...\n",
      "0.000113277  9.26813e_5           0           0  5.14896e_6 0.00020595...\n"
     ]
    }
   ],
   "source": [
    "]P=. (% +/@:,) <: every 27 27&$ {: (#\"1~ BIGRAMS e.~ {.) FAQbigrams"
   ]
  },
  {
   "cell_type": "markdown",
   "metadata": {},
   "source": [
    "Now we can compute the conditional probabilities and visualize the results.\n",
    "To match the figures in the book, we need to first move the first column and row\n",
    "to the last column and row as that's where the space is represented.  Second,\n",
    "we need a function to make white squares that are proportional in size to the probabilities."
   ]
  },
  {
   "cell_type": "code",
   "execution_count": 28,
   "metadata": {
    "collapsed": false
   },
   "outputs": [],
   "source": [
    "NB. credit to Raul Miller http://jsoftware.com/pipermail/programming/2015-January/040848.html\n",
    "SQUARE=: (>./~|i:12)%12\n",
    "matrix2squares=: 1&$: : (4 : ',/ 0 |: ,/ 0 2|: y >:/ (SQUARE % x)')\n",
    "switchLastColRow=.(}.\"1 ,. {.\"1)@:(}. , {.)"
   ]
  },
  {
   "cell_type": "markdown",
   "metadata": {},
   "source": [
    "Now we can visualize the joint probability $Pr(i,j)$"
   ]
  },
  {
   "cell_type": "code",
   "execution_count": 29,
   "metadata": {
    "collapsed": false
   },
   "outputs": [
    {
     "data": {
      "image/png": "[encoded data removed]"
     },
     "metadata": {},
     "output_type": "display_data"
    }
   ],
   "source": [
    "load'viewmat'\n",
    "viewmat 80 matrix2squares switchLastColRow P"
   ]
  },
  {
   "cell_type": "markdown",
   "metadata": {},
   "source": [
    "and the probability of the second letter given the first $Pr(j|i)$, by\n",
    "dividing each row by its sum:"
   ]
  },
  {
   "cell_type": "code",
   "execution_count": 30,
   "metadata": {
    "collapsed": false
   },
   "outputs": [
    {
     "data": {
      "image/png": "[encoded data removed]"
     },
     "metadata": {},
     "output_type": "display_data"
    }
   ],
   "source": [
    "viewmat 2.5 matrix2squares switchLastColRow (% +/\"1) P"
   ]
  },
  {
   "cell_type": "markdown",
   "metadata": {},
   "source": [
    "and the probability of the first letter given the second $Pr(i|j)$, by\n",
    "dividing each column by its sum:"
   ]
  },
  {
   "cell_type": "code",
   "execution_count": 31,
   "metadata": {
    "collapsed": false
   },
   "outputs": [
    {
     "data": {
      "image/png": "[encoded data removed]"
     },
     "metadata": {},
     "output_type": "display_data"
    }
   ],
   "source": [
    "viewmat 2.5 matrix2squares switchLastColRow (% +/\"1)&.|: P"
   ]
  }
 ],
 "metadata": {
  "celltoolbar": "Raw Cell Format",
  "kernelspec": {
   "display_name": "J",
   "language": "J",
   "name": "jkernel"
  },
  "language_info": {
   "file_extension": "ijs",
   "mimetype": "text/x-J",
   "name": "J"
  }
 },
 "nbformat": 4,
 "nbformat_minor": 0
}
